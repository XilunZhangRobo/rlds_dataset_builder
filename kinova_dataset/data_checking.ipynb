{
 "cells": [
  {
   "cell_type": "code",
   "execution_count": 2,
   "metadata": {},
   "outputs": [],
   "source": [
    "import numpy as np\n"
   ]
  },
  {
   "cell_type": "code",
   "execution_count": 1,
   "metadata": {},
   "outputs": [
    {
     "name": "stdout",
     "output_type": "stream",
     "text": [
      "0.9956331634521485 -0.6189485639333725\n"
     ]
    }
   ],
   "source": [
    "import numpy as np\n",
    "import os \n",
    "import cv2\n",
    "collected_data_feedback_paht = 'data/new_collected_data_feedback.npy'\n",
    "## load data \n",
    "data = np.load(collected_data_feedback_paht, allow_pickle=True).item()\n",
    "filtered_data = {}\n",
    "max_velocity = 0.2 \n",
    "min_velocity = -0.2\n",
    "for key, value in data.items():\n",
    "    filtered_data[key] = value[\"tool_speed\"] + [value[\"gripper_angle\"]]\n",
    "    filtered_data[key][3:6] = [0 for x in filtered_data[key][3:6]]\n",
    "## normalize the filtered data based on max_velocity and min_velocity, max_velocity is 1, min_velocity is -1\n",
    "for key, value in filtered_data.items():\n",
    "    filtered_data[key][:-1] = [2 * ((x - min_velocity) / (max_velocity - min_velocity)) -1 for x in value[:-1]]\n",
    "    if filtered_data[key][-1] < 0.5:\n",
    "        filtered_data[key][-1] = -1\n",
    "    else:\n",
    "        filtered_data[key][-1] = 1\n",
    "    \n",
    "max_number = 0 \n",
    "min_number = 0\n",
    "for numbers in filtered_data.values():\n",
    "    if max(numbers) > max_number:\n",
    "        max_number = max(numbers)\n",
    "    if min(numbers) < min_number:\n",
    "        min_number = min(numbers)\n",
    "        \n",
    "print (max_number, min_number)\n",
    "assert max_number <= 1 and min_number >= -1, \"The data is not normalized\"\n",
    "episode_length = 50\n",
    "## load image \n",
    "image_folder_path = 'data/pngs'\n",
    "## load files in order\n",
    "all_images = {}\n",
    "for image_path in sorted(os.listdir(image_folder_path)):\n",
    "    image = cv2.imread(os.path.join(image_folder_path, image_path))\n",
    "    # image = cv2.resize(image, (224, 224))\n",
    "    ## print file name \n",
    "    image_name = image_path.split('.')[0]\n",
    "    all_images[image_name] = image\n",
    "\n",
    "# assert len(filtered_data) == len(os.listdir(image_folder_path)), f\"The number of images {len(filtered_data)} and data {len(os.listdir(image_folder_path))} is not equal\"\n",
    "\n",
    "for index in range(0, int(len(filtered_data)/episode_length)):\n",
    "    episode = []\n",
    "    for step in range(episode_length):\n",
    "        data_name = list(filtered_data.keys())[index + step]\n",
    "        episode.append({\n",
    "            'image':all_images[data_name],\n",
    "            'action': filtered_data[data_name],\n",
    "            'language_instruction': 'lift carrot.',\n",
    "        })\n",
    "    if index < int(0.8 * (len(filtered_data)/episode_length)):\n",
    "        np.save(f'data/training_data/episode_{index}', episode)\n",
    "    else:\n",
    "        np.save(f'data/val_data/episode_{index-int(0.8 * (len(filtered_data)/episode_length))}', episode)\n",
    "\n",
    "    \n",
    "\n",
    "    \n",
    "\n",
    "    \n"
   ]
  }
 ],
 "metadata": {
  "kernelspec": {
   "display_name": "rlds_env",
   "language": "python",
   "name": "python3"
  },
  "language_info": {
   "codemirror_mode": {
    "name": "ipython",
    "version": 3
   },
   "file_extension": ".py",
   "mimetype": "text/x-python",
   "name": "python",
   "nbconvert_exporter": "python",
   "pygments_lexer": "ipython3",
   "version": "3.9.0"
  },
  "orig_nbformat": 4
 },
 "nbformat": 4,
 "nbformat_minor": 2
}
